{
 "cells": [
  {
   "cell_type": "code",
   "execution_count": 1,
   "metadata": {},
   "outputs": [
    {
     "name": "stdout",
     "output_type": "stream",
     "text": [
      "Requirement already satisfied: selenium in d:\\new folder\\lib\\site-packages (3.141.0)\n",
      "Requirement already satisfied: urllib3 in d:\\new folder\\lib\\site-packages (from selenium) (1.25.11)\n"
     ]
    }
   ],
   "source": [
    "!pip install selenium"
   ]
  },
  {
   "cell_type": "code",
   "execution_count": 2,
   "metadata": {},
   "outputs": [],
   "source": [
    "#LET REQRURIED LALARARIES\n",
    "import selenium\n",
    "import pandas as pd\n",
    "from selenium import webdriver"
   ]
  },
  {
   "cell_type": "code",
   "execution_count": 3,
   "metadata": {},
   "outputs": [],
   "source": [
    "# go to link= https://chromedriver.chromium.org/downloads"
   ]
  },
  {
   "cell_type": "code",
   "execution_count": 4,
   "metadata": {},
   "outputs": [],
   "source": [
    "# lets frist connect to the web drivers\n",
    "driver= webdriver.Chrome(r\"C:\\Users\\G\\Downloads\\chromedriver_win32\\chromedriver.exe\")"
   ]
  },
  {
   "cell_type": "code",
   "execution_count": 8,
   "metadata": {},
   "outputs": [],
   "source": [
    "# spectfying the URL of the webpage to be scraped\n",
    "url= (\"https://www.flipkart.com/search?q=sunglasses&sid=26x&as=on&as-show=on&otracker=AS_QueryStore_OrganicAutoSuggest_1_7_na_na_na&otracker1=AS_QueryStore_OrganicAutoSuggest_1_7_na_na_na&as-pos=1&as-type=RECENT&suggestionId=sunglasses%7CSunglasses&requestId=daa81500-62c8-4919-ab49-11d44537905f&as-searchtext=SUNGLAS\")"
   ]
  },
  {
   "cell_type": "code",
   "execution_count": 9,
   "metadata": {},
   "outputs": [],
   "source": [
    "# let open the webpage through our web drivers\n",
    "driver.get(url)"
   ]
  },
  {
   "cell_type": "code",
   "execution_count": 32,
   "metadata": {},
   "outputs": [],
   "source": [
    "brand_name=[]\n",
    "production_description=[]\n",
    "price_brand=[]\n",
    "discount_brand=[]"
   ]
  },
  {
   "cell_type": "code",
   "execution_count": 33,
   "metadata": {},
   "outputs": [
    {
     "data": {
      "text/plain": [
       "[<selenium.webdriver.remote.webelement.WebElement (session=\"bdbe8e64e83ed1e751ef58e7fe312839\", element=\"1e298f6e-8ab9-4c4a-890b-c829d5d3d693\")>,\n",
       " <selenium.webdriver.remote.webelement.WebElement (session=\"bdbe8e64e83ed1e751ef58e7fe312839\", element=\"bd269e44-3ec3-4a4b-b993-93febc1e7adb\")>,\n",
       " <selenium.webdriver.remote.webelement.WebElement (session=\"bdbe8e64e83ed1e751ef58e7fe312839\", element=\"7f13b984-9915-4d35-8526-c3adb904ce71\")>,\n",
       " <selenium.webdriver.remote.webelement.WebElement (session=\"bdbe8e64e83ed1e751ef58e7fe312839\", element=\"2455f089-0356-4b8f-924a-2dd4a4d86e3d\")>]"
      ]
     },
     "execution_count": 33,
     "metadata": {},
     "output_type": "execute_result"
    }
   ],
   "source": [
    "# let extract all the tags having the company name\n",
    "brand_tag= driver.find_elements_by_xpath(\"//div[@class='_2WkVRV']\")\n",
    "brand_tag[0:4]"
   ]
  },
  {
   "cell_type": "code",
   "execution_count": 34,
   "metadata": {},
   "outputs": [
    {
     "data": {
      "text/plain": [
       "['Royal Son',\n",
       " 'Royal Son',\n",
       " 'FDA COLLECTION',\n",
       " 'shah collections',\n",
       " 'Riffko',\n",
       " 'Phenomenal']"
      ]
     },
     "execution_count": 34,
     "metadata": {},
     "output_type": "execute_result"
    }
   ],
   "source": [
    "#let extract all tags having brand -name\n",
    "for i in brand_tag:\n",
    "    brand=i.text\n",
    "    brand_name.append(brand)\n",
    "brand_name[0:6]"
   ]
  },
  {
   "cell_type": "code",
   "execution_count": 35,
   "metadata": {},
   "outputs": [
    {
     "data": {
      "text/plain": [
       "[<selenium.webdriver.remote.webelement.WebElement (session=\"bdbe8e64e83ed1e751ef58e7fe312839\", element=\"9922f25a-96c0-4054-ba20-1a61f1c9be36\")>,\n",
       " <selenium.webdriver.remote.webelement.WebElement (session=\"bdbe8e64e83ed1e751ef58e7fe312839\", element=\"ad536ba6-d7af-46bd-a0ed-327bb003f6b8\")>,\n",
       " <selenium.webdriver.remote.webelement.WebElement (session=\"bdbe8e64e83ed1e751ef58e7fe312839\", element=\"4b46b831-7712-4a46-94d3-1ddc7af2a1a8\")>,\n",
       " <selenium.webdriver.remote.webelement.WebElement (session=\"bdbe8e64e83ed1e751ef58e7fe312839\", element=\"82d8cb29-a28f-4298-b8f0-cd06b1da1280\")>]"
      ]
     },
     "execution_count": 35,
     "metadata": {},
     "output_type": "execute_result"
    }
   ],
   "source": [
    "# let extract all the tags having the production-description\n",
    "production_tag= driver.find_elements_by_xpath(\"//a[@class='IRpwTa']\")\n",
    "production_tag[0:4]"
   ]
  },
  {
   "cell_type": "code",
   "execution_count": 36,
   "metadata": {},
   "outputs": [
    {
     "data": {
      "text/plain": [
       "['UV Protection Rectangular Sunglasses (58)',\n",
       " 'Mirrored Aviator Sunglasses (Free Size)',\n",
       " 'Gradient, Mirrored, UV Protection Round, Round, Round S...',\n",
       " 'UV Protection, Polarized, Mirrored Rectangular Sunglass...',\n",
       " 'UV Protection, Mirrored Retro Square Sunglasses (53)',\n",
       " 'UV Protection, Gradient Rectangular Sunglasses (Free Si...']"
      ]
     },
     "execution_count": 36,
     "metadata": {},
     "output_type": "execute_result"
    }
   ],
   "source": [
    "#let extract all tags having production_description\n",
    "for i in production_tag:\n",
    "    production=i.text\n",
    "    production_description.append(production)\n",
    "production_description[0:6]"
   ]
  },
  {
   "cell_type": "code",
   "execution_count": 37,
   "metadata": {},
   "outputs": [
    {
     "data": {
      "text/plain": [
       "[<selenium.webdriver.remote.webelement.WebElement (session=\"bdbe8e64e83ed1e751ef58e7fe312839\", element=\"cccaf84a-4fa0-47a0-97aa-d2bc52eb10e4\")>,\n",
       " <selenium.webdriver.remote.webelement.WebElement (session=\"bdbe8e64e83ed1e751ef58e7fe312839\", element=\"65648452-5e8f-413d-a0da-2b6dbe146448\")>,\n",
       " <selenium.webdriver.remote.webelement.WebElement (session=\"bdbe8e64e83ed1e751ef58e7fe312839\", element=\"794445f4-2156-4cc9-9155-e3238a338e89\")>,\n",
       " <selenium.webdriver.remote.webelement.WebElement (session=\"bdbe8e64e83ed1e751ef58e7fe312839\", element=\"649b7f07-964b-400a-82d7-88685522c8e1\")>]"
      ]
     },
     "execution_count": 37,
     "metadata": {},
     "output_type": "execute_result"
    }
   ],
   "source": [
    "# let extract all the tags having the price-description\n",
    "price_tag= driver.find_elements_by_xpath(\"//div[@class='_30jeq3']\")\n",
    "price_tag[0:4]"
   ]
  },
  {
   "cell_type": "code",
   "execution_count": 38,
   "metadata": {},
   "outputs": [
    {
     "data": {
      "text/plain": [
       "['₹474', '₹399', '₹199', '₹219', '₹235', '₹399']"
      ]
     },
     "execution_count": 38,
     "metadata": {},
     "output_type": "execute_result"
    }
   ],
   "source": [
    "#let extract all tags having price_description\n",
    "for i in price_tag:\n",
    "    price=i.text\n",
    "    price_brand.append(price)\n",
    "price_brand[0:6]"
   ]
  },
  {
   "cell_type": "code",
   "execution_count": 39,
   "metadata": {},
   "outputs": [
    {
     "data": {
      "text/plain": [
       "[<selenium.webdriver.remote.webelement.WebElement (session=\"bdbe8e64e83ed1e751ef58e7fe312839\", element=\"ee356cdd-670e-499e-b724-66cf5067eb0b\")>,\n",
       " <selenium.webdriver.remote.webelement.WebElement (session=\"bdbe8e64e83ed1e751ef58e7fe312839\", element=\"93cd8b78-056b-4768-bfbe-f090ce91ff24\")>,\n",
       " <selenium.webdriver.remote.webelement.WebElement (session=\"bdbe8e64e83ed1e751ef58e7fe312839\", element=\"f1fb8528-a358-41bc-b8e6-238da4f099cc\")>,\n",
       " <selenium.webdriver.remote.webelement.WebElement (session=\"bdbe8e64e83ed1e751ef58e7fe312839\", element=\"9fbcd03d-ca1a-49d5-8219-05d71dc0ad01\")>]"
      ]
     },
     "execution_count": 39,
     "metadata": {},
     "output_type": "execute_result"
    }
   ],
   "source": [
    "# let extract all the tags having the discount-description\n",
    "discount_tag= driver.find_elements_by_xpath(\"//div[@class='_3Ay6Sb']\")\n",
    "discount_tag[0:4]"
   ]
  },
  {
   "cell_type": "code",
   "execution_count": 40,
   "metadata": {},
   "outputs": [
    {
     "data": {
      "text/plain": [
       "['68% off', '73% off', '84% off', '78% off', '80% off', '80% off']"
      ]
     },
     "execution_count": 40,
     "metadata": {},
     "output_type": "execute_result"
    }
   ],
   "source": [
    "#let extract all tags having price_description\n",
    "for i in discount_tag:\n",
    "    discount=i.text\n",
    "    discount_brand.append(discount)\n",
    "discount_brand[0:6]"
   ]
  },
  {
   "cell_type": "code",
   "execution_count": 41,
   "metadata": {},
   "outputs": [
    {
     "name": "stdout",
     "output_type": "stream",
     "text": [
      "10 44 4 7\n"
     ]
    }
   ],
   "source": [
    "print(len(brand),\n",
    "      len(production),\n",
    "      len(price),\n",
    "      len(discount))"
   ]
  },
  {
   "cell_type": "code",
   "execution_count": 42,
   "metadata": {},
   "outputs": [
    {
     "data": {
      "text/html": [
       "<div>\n",
       "<style scoped>\n",
       "    .dataframe tbody tr th:only-of-type {\n",
       "        vertical-align: middle;\n",
       "    }\n",
       "\n",
       "    .dataframe tbody tr th {\n",
       "        vertical-align: top;\n",
       "    }\n",
       "\n",
       "    .dataframe thead th {\n",
       "        text-align: right;\n",
       "    }\n",
       "</style>\n",
       "<table border=\"1\" class=\"dataframe\">\n",
       "  <thead>\n",
       "    <tr style=\"text-align: right;\">\n",
       "      <th></th>\n",
       "      <th>brand</th>\n",
       "      <th>production</th>\n",
       "      <th>price</th>\n",
       "      <th>discount</th>\n",
       "    </tr>\n",
       "  </thead>\n",
       "  <tbody>\n",
       "    <tr>\n",
       "      <th>0</th>\n",
       "      <td>Royal Son</td>\n",
       "      <td>UV Protection Rectangular Sunglasses (58)</td>\n",
       "      <td>₹474</td>\n",
       "      <td>68% off</td>\n",
       "    </tr>\n",
       "    <tr>\n",
       "      <th>1</th>\n",
       "      <td>Royal Son</td>\n",
       "      <td>Mirrored Aviator Sunglasses (Free Size)</td>\n",
       "      <td>₹399</td>\n",
       "      <td>73% off</td>\n",
       "    </tr>\n",
       "    <tr>\n",
       "      <th>2</th>\n",
       "      <td>FDA COLLECTION</td>\n",
       "      <td>Gradient, Mirrored, UV Protection Round, Round...</td>\n",
       "      <td>₹199</td>\n",
       "      <td>84% off</td>\n",
       "    </tr>\n",
       "    <tr>\n",
       "      <th>3</th>\n",
       "      <td>shah collections</td>\n",
       "      <td>UV Protection, Polarized, Mirrored Rectangular...</td>\n",
       "      <td>₹219</td>\n",
       "      <td>78% off</td>\n",
       "    </tr>\n",
       "    <tr>\n",
       "      <th>4</th>\n",
       "      <td>Riffko</td>\n",
       "      <td>UV Protection, Mirrored Retro Square Sunglasse...</td>\n",
       "      <td>₹235</td>\n",
       "      <td>80% off</td>\n",
       "    </tr>\n",
       "    <tr>\n",
       "      <th>5</th>\n",
       "      <td>Phenomenal</td>\n",
       "      <td>UV Protection, Gradient Rectangular Sunglasses...</td>\n",
       "      <td>₹399</td>\n",
       "      <td>80% off</td>\n",
       "    </tr>\n",
       "    <tr>\n",
       "      <th>6</th>\n",
       "      <td>ROZZETTA CRAFT</td>\n",
       "      <td>UV Protection Wayfarer Sunglasses (55)</td>\n",
       "      <td>₹404</td>\n",
       "      <td>79% off</td>\n",
       "    </tr>\n",
       "    <tr>\n",
       "      <th>7</th>\n",
       "      <td>funglasses</td>\n",
       "      <td>UV Protection Aviator Sunglasses (58)</td>\n",
       "      <td>₹161</td>\n",
       "      <td>83% off</td>\n",
       "    </tr>\n",
       "    <tr>\n",
       "      <th>8</th>\n",
       "      <td>Royal Son</td>\n",
       "      <td>Gradient, UV Protection Wayfarer Sunglasses (F...</td>\n",
       "      <td>₹242</td>\n",
       "      <td>81% off</td>\n",
       "    </tr>\n",
       "    <tr>\n",
       "      <th>9</th>\n",
       "      <td>Fastrack</td>\n",
       "      <td>Mirrored Aviator Sunglasses (55)</td>\n",
       "      <td>₹1,123</td>\n",
       "      <td>13% off</td>\n",
       "    </tr>\n",
       "  </tbody>\n",
       "</table>\n",
       "</div>"
      ],
      "text/plain": [
       "              brand                                         production  \\\n",
       "0         Royal Son          UV Protection Rectangular Sunglasses (58)   \n",
       "1         Royal Son            Mirrored Aviator Sunglasses (Free Size)   \n",
       "2    FDA COLLECTION  Gradient, Mirrored, UV Protection Round, Round...   \n",
       "3  shah collections  UV Protection, Polarized, Mirrored Rectangular...   \n",
       "4            Riffko  UV Protection, Mirrored Retro Square Sunglasse...   \n",
       "5        Phenomenal  UV Protection, Gradient Rectangular Sunglasses...   \n",
       "6    ROZZETTA CRAFT             UV Protection Wayfarer Sunglasses (55)   \n",
       "7        funglasses              UV Protection Aviator Sunglasses (58)   \n",
       "8         Royal Son  Gradient, UV Protection Wayfarer Sunglasses (F...   \n",
       "9          Fastrack                   Mirrored Aviator Sunglasses (55)   \n",
       "\n",
       "    price discount  \n",
       "0    ₹474  68% off  \n",
       "1    ₹399  73% off  \n",
       "2    ₹199  84% off  \n",
       "3    ₹219  78% off  \n",
       "4    ₹235  80% off  \n",
       "5    ₹399  80% off  \n",
       "6    ₹404  79% off  \n",
       "7    ₹161  83% off  \n",
       "8    ₹242  81% off  \n",
       "9  ₹1,123  13% off  "
      ]
     },
     "execution_count": 42,
     "metadata": {},
     "output_type": "execute_result"
    }
   ],
   "source": [
    "sunglasses=pd.DataFrame({})\n",
    "sunglasses['brand']=brand_name[0:10]\n",
    "sunglasses['production']=production_description[0:10]\n",
    "sunglasses['price']=price_brand[0:10]\n",
    "sunglasses['discount']=discount_brand[0:10]\n",
    "sunglasses"
   ]
  },
  {
   "cell_type": "code",
   "execution_count": null,
   "metadata": {},
   "outputs": [],
   "source": []
  }
 ],
 "metadata": {
  "kernelspec": {
   "display_name": "Python 3",
   "language": "python",
   "name": "python3"
  },
  "language_info": {
   "codemirror_mode": {
    "name": "ipython",
    "version": 3
   },
   "file_extension": ".py",
   "mimetype": "text/x-python",
   "name": "python",
   "nbconvert_exporter": "python",
   "pygments_lexer": "ipython3",
   "version": "3.8.5"
  }
 },
 "nbformat": 4,
 "nbformat_minor": 4
}
